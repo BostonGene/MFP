{
  "nbformat": 4,
  "nbformat_minor": 0,
  "metadata": {
    "colab": {
      "name": "walkthrough.ipynb",
      "provenance": [],
      "collapsed_sections": [],
      "include_colab_link": true
    },
    "kernelspec": {
      "name": "python3",
      "display_name": "Python 3"
    },
    "language_info": {
      "name": "python"
    }
  },
  "cells": [
    {
      "cell_type": "markdown",
      "metadata": {
        "id": "view-in-github",
        "colab_type": "text"
      },
      "source": [
        "<a href=\"https://colab.research.google.com/github/ZWael/MFP/blob/master/walkthrough.ipynb\" target=\"_parent\"><img src=\"https://colab.research.google.com/assets/colab-badge.svg\" alt=\"Open In Colab\"/></a>"
      ]
    },
    {
      "cell_type": "code",
      "metadata": {
        "colab": {
          "base_uri": "https://localhost:8080/"
        },
        "id": "kE12_q3ZKZ9N",
        "outputId": "777eb119-508f-4f8f-a712-e0433c41e545"
      },
      "source": [
        "from google.colab import drive\n",
        "drive.mount('/content/drive')"
      ],
      "execution_count": 1,
      "outputs": [
        {
          "output_type": "stream",
          "name": "stdout",
          "text": [
            "Drive already mounted at /content/drive; to attempt to forcibly remount, call drive.mount(\"/content/drive\", force_remount=True).\n"
          ]
        }
      ]
    },
    {
      "cell_type": "code",
      "metadata": {
        "colab": {
          "base_uri": "https://localhost:8080/"
        },
        "id": "AuPIKrDqKCNF",
        "outputId": "8d4013fe-b6f7-42ab-a587-593474b96746"
      },
      "source": [
        "%cd /content/drive/MyDrive/MFP"
      ],
      "execution_count": 2,
      "outputs": [
        {
          "output_type": "stream",
          "name": "stdout",
          "text": [
            "/content/drive/MyDrive/MFP\n"
          ]
        }
      ]
    },
    {
      "cell_type": "code",
      "metadata": {
        "id": "_fB04PzHJEpY",
        "colab": {
          "base_uri": "https://localhost:8080/"
        },
        "outputId": "bcb8cb0e-9616-4a8c-b84b-b015c59d74c1"
      },
      "source": [
        "!ls"
      ],
      "execution_count": 3,
      "outputs": [
        {
          "output_type": "stream",
          "name": "stdout",
          "text": [
            "classification_example.py\t\t      portraits\n",
            "clustering_example.py\t\t\t      README.md\n",
            "Cohorts\t\t\t\t\t      requirements.txt\n",
            "From_cell_files.ipynb\t\t\t      signatures\n",
            "img\t\t\t\t\t      upstream_html\n",
            "license.md\t\t\t\t      walkthrough.ipynb\n",
            "Methods_Description_-_Batch_correction.ipynb\n"
          ]
        }
      ]
    },
    {
      "cell_type": "code",
      "metadata": {
        "id": "WPaBxo9UHC4G"
      },
      "source": [
        "import pandas as pd\n",
        "\n",
        "from portraits.clustering import clustering_profile_metrics, clustering_profile_metrics_plot\n",
        "from portraits.utils import read_gene_sets, ssgsea_formula, median_scale"
      ],
      "execution_count": 4,
      "outputs": []
    },
    {
      "cell_type": "markdown",
      "metadata": {
        "id": "vzWSwF9WMu6x"
      },
      "source": [
        "# Read signatures"
      ]
    },
    {
      "cell_type": "code",
      "metadata": {
        "id": "recvnCI8K2ZH"
      },
      "source": [
        "gmt = read_gene_sets('signatures/gene_signatures.gmt') "
      ],
      "execution_count": 5,
      "outputs": []
    },
    {
      "cell_type": "code",
      "metadata": {
        "colab": {
          "base_uri": "https://localhost:8080/"
        },
        "id": "NrJSyfapL6VD",
        "outputId": "c2401638-45f4-4b0d-e3bf-91f67ebb4af0"
      },
      "source": [
        "gmt['Angiogenesis']"
      ],
      "execution_count": 6,
      "outputs": [
        {
          "output_type": "execute_result",
          "data": {
            "text/plain": [
              "<portraits.utils.GeneSet at 0x7f8c10bad550>"
            ]
          },
          "metadata": {},
          "execution_count": 6
        }
      ]
    },
    {
      "cell_type": "markdown",
      "metadata": {
        "id": "o0V31B14Mm7I"
      },
      "source": [
        "# Read expressions"
      ]
    },
    {
      "cell_type": "markdown",
      "metadata": {
        "id": "h-RV4CzTM3FB"
      },
      "source": [
        "Here as an illustration we will use the Augustine cohort tsv file "
      ]
    },
    {
      "cell_type": "code",
      "metadata": {
        "id": "t1BSHBmOMfc4"
      },
      "source": [
        "exp = pd.read_csv('Cohorts/Augustine/expressions.tsv.gz', sep='\\t', index_col=0)"
      ],
      "execution_count": 7,
      "outputs": []
    },
    {
      "cell_type": "code",
      "metadata": {
        "colab": {
          "base_uri": "https://localhost:8080/",
          "height": 181
        },
        "id": "ejzK6pz7NWMu",
        "outputId": "55d924d9-2456-403b-fe32-c0ddd0a286f3"
      },
      "source": [
        "exp.head(3)"
      ],
      "execution_count": 8,
      "outputs": [
        {
          "output_type": "execute_result",
          "data": {
            "text/html": [
              "<div>\n",
              "<style scoped>\n",
              "    .dataframe tbody tr th:only-of-type {\n",
              "        vertical-align: middle;\n",
              "    }\n",
              "\n",
              "    .dataframe tbody tr th {\n",
              "        vertical-align: top;\n",
              "    }\n",
              "\n",
              "    .dataframe thead th {\n",
              "        text-align: right;\n",
              "    }\n",
              "</style>\n",
              "<table border=\"1\" class=\"dataframe\">\n",
              "  <thead>\n",
              "    <tr style=\"text-align: right;\">\n",
              "      <th></th>\n",
              "      <th>GSM478912</th>\n",
              "      <th>GSM478913</th>\n",
              "      <th>GSM478914</th>\n",
              "      <th>GSM478915</th>\n",
              "      <th>GSM478916</th>\n",
              "      <th>GSM478917</th>\n",
              "      <th>GSM478918</th>\n",
              "      <th>GSM478919</th>\n",
              "      <th>GSM478920</th>\n",
              "      <th>GSM478921</th>\n",
              "      <th>GSM478922</th>\n",
              "      <th>GSM478923</th>\n",
              "      <th>GSM478924</th>\n",
              "      <th>GSM478925</th>\n",
              "      <th>GSM478926</th>\n",
              "      <th>GSM478927</th>\n",
              "      <th>GSM478928</th>\n",
              "      <th>GSM478929</th>\n",
              "      <th>GSM478930</th>\n",
              "      <th>GSM478931</th>\n",
              "      <th>GSM478932</th>\n",
              "      <th>GSM478933</th>\n",
              "      <th>GSM478934</th>\n",
              "      <th>GSM478935</th>\n",
              "      <th>GSM478936</th>\n",
              "      <th>GSM478937</th>\n",
              "      <th>GSM478938</th>\n",
              "      <th>GSM478939</th>\n",
              "      <th>GSM478940</th>\n",
              "      <th>GSM478941</th>\n",
              "      <th>GSM478942</th>\n",
              "      <th>GSM478943</th>\n",
              "      <th>GSM478944</th>\n",
              "      <th>GSM478945</th>\n",
              "      <th>GSM478946</th>\n",
              "      <th>GSM478947</th>\n",
              "      <th>GSM478948</th>\n",
              "      <th>GSM478949</th>\n",
              "      <th>GSM478950</th>\n",
              "      <th>GSM478951</th>\n",
              "      <th>GSM478952</th>\n",
              "      <th>GSM478953</th>\n",
              "      <th>GSM478954</th>\n",
              "      <th>GSM478955</th>\n",
              "      <th>GSM478956</th>\n",
              "      <th>GSM478957</th>\n",
              "      <th>GSM478958</th>\n",
              "      <th>GSM478959</th>\n",
              "      <th>GSM478960</th>\n",
              "      <th>GSM478961</th>\n",
              "      <th>GSM478962</th>\n",
              "      <th>GSM478963</th>\n",
              "    </tr>\n",
              "  </thead>\n",
              "  <tbody>\n",
              "    <tr>\n",
              "      <th>A1BG</th>\n",
              "      <td>44.763856</td>\n",
              "      <td>40.570022</td>\n",
              "      <td>47.412206</td>\n",
              "      <td>38.605712</td>\n",
              "      <td>38.605712</td>\n",
              "      <td>40.570022</td>\n",
              "      <td>62.703348</td>\n",
              "      <td>65.154802</td>\n",
              "      <td>42.462892</td>\n",
              "      <td>63.506892</td>\n",
              "      <td>50.631081</td>\n",
              "      <td>58.726107</td>\n",
              "      <td>90.429749</td>\n",
              "      <td>55.581599</td>\n",
              "      <td>40.488149</td>\n",
              "      <td>40.488149</td>\n",
              "      <td>40.570022</td>\n",
              "      <td>40.570022</td>\n",
              "      <td>46.121590</td>\n",
              "      <td>40.570022</td>\n",
              "      <td>73.692913</td>\n",
              "      <td>29.866888</td>\n",
              "      <td>12.430196</td>\n",
              "      <td>24.352007</td>\n",
              "      <td>40.389534</td>\n",
              "      <td>40.570022</td>\n",
              "      <td>40.570022</td>\n",
              "      <td>36.901023</td>\n",
              "      <td>40.570022</td>\n",
              "      <td>40.488149</td>\n",
              "      <td>38.605712</td>\n",
              "      <td>38.839909</td>\n",
              "      <td>61.520251</td>\n",
              "      <td>56.481533</td>\n",
              "      <td>38.605712</td>\n",
              "      <td>30.610384</td>\n",
              "      <td>48.343300</td>\n",
              "      <td>47.984698</td>\n",
              "      <td>40.570022</td>\n",
              "      <td>39.493967</td>\n",
              "      <td>40.630873</td>\n",
              "      <td>60.481601</td>\n",
              "      <td>40.389534</td>\n",
              "      <td>71.057705</td>\n",
              "      <td>38.605712</td>\n",
              "      <td>38.605712</td>\n",
              "      <td>38.605712</td>\n",
              "      <td>51.893083</td>\n",
              "      <td>40.570022</td>\n",
              "      <td>41.630045</td>\n",
              "      <td>43.347984</td>\n",
              "      <td>40.580599</td>\n",
              "    </tr>\n",
              "    <tr>\n",
              "      <th>A1BG-AS1</th>\n",
              "      <td>11.488335</td>\n",
              "      <td>11.488335</td>\n",
              "      <td>11.488335</td>\n",
              "      <td>11.488335</td>\n",
              "      <td>11.027629</td>\n",
              "      <td>11.488335</td>\n",
              "      <td>9.592399</td>\n",
              "      <td>11.488335</td>\n",
              "      <td>11.488335</td>\n",
              "      <td>12.815479</td>\n",
              "      <td>6.642623</td>\n",
              "      <td>6.642623</td>\n",
              "      <td>20.763783</td>\n",
              "      <td>11.488335</td>\n",
              "      <td>26.547519</td>\n",
              "      <td>20.033015</td>\n",
              "      <td>8.674403</td>\n",
              "      <td>11.462431</td>\n",
              "      <td>11.488335</td>\n",
              "      <td>11.488335</td>\n",
              "      <td>8.456057</td>\n",
              "      <td>6.278581</td>\n",
              "      <td>8.742121</td>\n",
              "      <td>11.488335</td>\n",
              "      <td>11.488335</td>\n",
              "      <td>10.739871</td>\n",
              "      <td>11.488335</td>\n",
              "      <td>11.973254</td>\n",
              "      <td>11.488335</td>\n",
              "      <td>11.539418</td>\n",
              "      <td>21.694420</td>\n",
              "      <td>18.675556</td>\n",
              "      <td>15.152352</td>\n",
              "      <td>11.472025</td>\n",
              "      <td>13.119201</td>\n",
              "      <td>11.488335</td>\n",
              "      <td>11.488335</td>\n",
              "      <td>11.488335</td>\n",
              "      <td>14.638787</td>\n",
              "      <td>11.488335</td>\n",
              "      <td>13.458551</td>\n",
              "      <td>13.500383</td>\n",
              "      <td>7.667442</td>\n",
              "      <td>28.266160</td>\n",
              "      <td>14.659700</td>\n",
              "      <td>11.923393</td>\n",
              "      <td>11.488335</td>\n",
              "      <td>11.740566</td>\n",
              "      <td>17.106923</td>\n",
              "      <td>12.654538</td>\n",
              "      <td>16.938234</td>\n",
              "      <td>11.488335</td>\n",
              "    </tr>\n",
              "    <tr>\n",
              "      <th>A1CF</th>\n",
              "      <td>3.776700</td>\n",
              "      <td>3.776700</td>\n",
              "      <td>3.776700</td>\n",
              "      <td>3.776700</td>\n",
              "      <td>3.776700</td>\n",
              "      <td>4.047415</td>\n",
              "      <td>4.792049</td>\n",
              "      <td>3.776700</td>\n",
              "      <td>3.776700</td>\n",
              "      <td>3.776700</td>\n",
              "      <td>3.776700</td>\n",
              "      <td>6.057215</td>\n",
              "      <td>3.776700</td>\n",
              "      <td>3.776700</td>\n",
              "      <td>3.776700</td>\n",
              "      <td>4.311873</td>\n",
              "      <td>3.776700</td>\n",
              "      <td>3.776700</td>\n",
              "      <td>3.776700</td>\n",
              "      <td>3.776700</td>\n",
              "      <td>3.776700</td>\n",
              "      <td>3.776700</td>\n",
              "      <td>3.776700</td>\n",
              "      <td>3.776700</td>\n",
              "      <td>4.151728</td>\n",
              "      <td>3.776700</td>\n",
              "      <td>3.776700</td>\n",
              "      <td>3.776700</td>\n",
              "      <td>3.776700</td>\n",
              "      <td>3.776700</td>\n",
              "      <td>3.776700</td>\n",
              "      <td>3.776700</td>\n",
              "      <td>3.776700</td>\n",
              "      <td>4.138151</td>\n",
              "      <td>3.776700</td>\n",
              "      <td>3.776700</td>\n",
              "      <td>3.794919</td>\n",
              "      <td>3.776700</td>\n",
              "      <td>3.776700</td>\n",
              "      <td>3.783254</td>\n",
              "      <td>3.776700</td>\n",
              "      <td>3.776700</td>\n",
              "      <td>3.776700</td>\n",
              "      <td>3.776700</td>\n",
              "      <td>3.776700</td>\n",
              "      <td>9.769723</td>\n",
              "      <td>3.776700</td>\n",
              "      <td>3.776700</td>\n",
              "      <td>3.776700</td>\n",
              "      <td>3.776700</td>\n",
              "      <td>3.776700</td>\n",
              "      <td>3.776700</td>\n",
              "    </tr>\n",
              "  </tbody>\n",
              "</table>\n",
              "</div>"
            ],
            "text/plain": [
              "          GSM478912  GSM478913  GSM478914  ...  GSM478961  GSM478962  GSM478963\n",
              "A1BG      44.763856  40.570022  47.412206  ...  41.630045  43.347984  40.580599\n",
              "A1BG-AS1  11.488335  11.488335  11.488335  ...  12.654538  16.938234  11.488335\n",
              "A1CF       3.776700   3.776700   3.776700  ...   3.776700   3.776700   3.776700\n",
              "\n",
              "[3 rows x 52 columns]"
            ]
          },
          "metadata": {},
          "execution_count": 8
        }
      ]
    },
    {
      "cell_type": "markdown",
      "metadata": {
        "id": "xFyHKILqN5Pq"
      },
      "source": [
        "# Calc signature scores and scaling it"
      ]
    },
    {
      "cell_type": "code",
      "metadata": {
        "id": "NkYpAGpbNjOt"
      },
      "source": [
        "signature_scores = ssgsea_formula(exp.T, gmt) # her we transpose the expression table \n",
        "# Scale signatures\n",
        "signature_scores_scaled = median_scale(signature_scores)"
      ],
      "execution_count": 9,
      "outputs": []
    },
    {
      "cell_type": "code",
      "metadata": {
        "colab": {
          "base_uri": "https://localhost:8080/",
          "height": 163
        },
        "id": "8lUbuKgTOF9q",
        "outputId": "209fb2ce-4f1f-49fb-c33d-f877dddb7990"
      },
      "source": [
        "signature_scores_scaled.head(3)"
      ],
      "execution_count": 10,
      "outputs": [
        {
          "output_type": "execute_result",
          "data": {
            "text/html": [
              "<div>\n",
              "<style scoped>\n",
              "    .dataframe tbody tr th:only-of-type {\n",
              "        vertical-align: middle;\n",
              "    }\n",
              "\n",
              "    .dataframe tbody tr th {\n",
              "        vertical-align: top;\n",
              "    }\n",
              "\n",
              "    .dataframe thead th {\n",
              "        text-align: right;\n",
              "    }\n",
              "</style>\n",
              "<table border=\"1\" class=\"dataframe\">\n",
              "  <thead>\n",
              "    <tr style=\"text-align: right;\">\n",
              "      <th></th>\n",
              "      <th>MHCI</th>\n",
              "      <th>MHCII</th>\n",
              "      <th>Coactivation_molecules</th>\n",
              "      <th>Effector_cells</th>\n",
              "      <th>T_cell_traffic</th>\n",
              "      <th>NK_cells</th>\n",
              "      <th>T_cells</th>\n",
              "      <th>B_cells</th>\n",
              "      <th>M1_signatures</th>\n",
              "      <th>Th1_signature</th>\n",
              "      <th>Antitumor_cytokines</th>\n",
              "      <th>Checkpoint_inhibition</th>\n",
              "      <th>Treg</th>\n",
              "      <th>T_reg_traffic</th>\n",
              "      <th>Neutrophil_signature</th>\n",
              "      <th>Granulocyte_traffic</th>\n",
              "      <th>MDSC</th>\n",
              "      <th>MDSC_traffic</th>\n",
              "      <th>Macrophages</th>\n",
              "      <th>Macrophage_DC_traffic</th>\n",
              "      <th>Th2_signature</th>\n",
              "      <th>Protumor_cytokines</th>\n",
              "      <th>CAF</th>\n",
              "      <th>Matrix</th>\n",
              "      <th>Matrix_remodeling</th>\n",
              "      <th>Angiogenesis</th>\n",
              "      <th>Endothelium</th>\n",
              "      <th>Proliferation_rate</th>\n",
              "      <th>EMT_signature</th>\n",
              "    </tr>\n",
              "  </thead>\n",
              "  <tbody>\n",
              "    <tr>\n",
              "      <th>GSM478912</th>\n",
              "      <td>-2.602821</td>\n",
              "      <td>-7.350003</td>\n",
              "      <td>-0.400397</td>\n",
              "      <td>-0.457742</td>\n",
              "      <td>-1.714376</td>\n",
              "      <td>-1.041894</td>\n",
              "      <td>-0.213045</td>\n",
              "      <td>0.371731</td>\n",
              "      <td>0.466577</td>\n",
              "      <td>0.519831</td>\n",
              "      <td>-2.252631</td>\n",
              "      <td>-0.658572</td>\n",
              "      <td>0.203139</td>\n",
              "      <td>2.047850</td>\n",
              "      <td>-0.752990</td>\n",
              "      <td>0.140557</td>\n",
              "      <td>-2.109979</td>\n",
              "      <td>-2.541594</td>\n",
              "      <td>-2.547508</td>\n",
              "      <td>-2.410980</td>\n",
              "      <td>0.291442</td>\n",
              "      <td>-1.403598</td>\n",
              "      <td>-5.230648</td>\n",
              "      <td>-4.031180</td>\n",
              "      <td>-1.369586</td>\n",
              "      <td>-1.809785</td>\n",
              "      <td>-2.918018</td>\n",
              "      <td>3.649245</td>\n",
              "      <td>-1.403900</td>\n",
              "    </tr>\n",
              "    <tr>\n",
              "      <th>GSM478913</th>\n",
              "      <td>-2.645689</td>\n",
              "      <td>-6.595055</td>\n",
              "      <td>-0.556757</td>\n",
              "      <td>-0.424833</td>\n",
              "      <td>-1.694343</td>\n",
              "      <td>-0.887625</td>\n",
              "      <td>-0.295966</td>\n",
              "      <td>0.429264</td>\n",
              "      <td>1.213958</td>\n",
              "      <td>0.356238</td>\n",
              "      <td>-2.511562</td>\n",
              "      <td>-0.103307</td>\n",
              "      <td>1.112309</td>\n",
              "      <td>1.030445</td>\n",
              "      <td>-2.325240</td>\n",
              "      <td>-0.215443</td>\n",
              "      <td>-1.887350</td>\n",
              "      <td>-2.316983</td>\n",
              "      <td>-2.762238</td>\n",
              "      <td>-2.693558</td>\n",
              "      <td>1.406431</td>\n",
              "      <td>-0.980988</td>\n",
              "      <td>-5.198766</td>\n",
              "      <td>-3.925075</td>\n",
              "      <td>-1.196709</td>\n",
              "      <td>-1.905589</td>\n",
              "      <td>-2.625737</td>\n",
              "      <td>3.365133</td>\n",
              "      <td>-1.076704</td>\n",
              "    </tr>\n",
              "    <tr>\n",
              "      <th>GSM478914</th>\n",
              "      <td>-1.316890</td>\n",
              "      <td>-0.510827</td>\n",
              "      <td>-0.424608</td>\n",
              "      <td>-0.497104</td>\n",
              "      <td>-0.923038</td>\n",
              "      <td>0.528284</td>\n",
              "      <td>-0.281549</td>\n",
              "      <td>0.053692</td>\n",
              "      <td>1.415917</td>\n",
              "      <td>-1.409104</td>\n",
              "      <td>-1.221494</td>\n",
              "      <td>0.318119</td>\n",
              "      <td>1.167260</td>\n",
              "      <td>-0.732170</td>\n",
              "      <td>-0.778363</td>\n",
              "      <td>3.704550</td>\n",
              "      <td>1.598995</td>\n",
              "      <td>1.792117</td>\n",
              "      <td>-0.226896</td>\n",
              "      <td>0.748523</td>\n",
              "      <td>-1.265611</td>\n",
              "      <td>1.892360</td>\n",
              "      <td>0.198815</td>\n",
              "      <td>-0.137486</td>\n",
              "      <td>0.018985</td>\n",
              "      <td>0.902991</td>\n",
              "      <td>-0.709575</td>\n",
              "      <td>-1.151177</td>\n",
              "      <td>2.785649</td>\n",
              "    </tr>\n",
              "  </tbody>\n",
              "</table>\n",
              "</div>"
            ],
            "text/plain": [
              "               MHCI     MHCII  ...  Proliferation_rate  EMT_signature\n",
              "GSM478912 -2.602821 -7.350003  ...            3.649245      -1.403900\n",
              "GSM478913 -2.645689 -6.595055  ...            3.365133      -1.076704\n",
              "GSM478914 -1.316890 -0.510827  ...           -1.151177       2.785649\n",
              "\n",
              "[3 rows x 29 columns]"
            ]
          },
          "metadata": {},
          "execution_count": 10
        }
      ]
    },
    {
      "cell_type": "markdown",
      "metadata": {
        "id": "g6SFv1BDVFzY"
      },
      "source": [
        "Check the clustering within a range of 30 to 65% similarity.\n",
        ">65% - usually graph is not connected; \n",
        "<30% - unreasonable correlation."
      ]
    },
    {
      "cell_type": "code",
      "metadata": {
        "colab": {
          "base_uri": "https://localhost:8080/"
        },
        "id": "WHQ2nxTANt13",
        "outputId": "a6da7bb2-fff2-4fd3-872d-2249e69ff70f"
      },
      "source": [
        "clustering_metrics = clustering_profile_metrics(signature_scores_scaled, threshold_mm=(.3, .65), step=.01)"
      ],
      "execution_count": 11,
      "outputs": [
        {
          "output_type": "stream",
          "name": "stderr",
          "text": [
            "100%|██████████| 35/35 [00:03<00:00, 11.34it/s]\n"
          ]
        }
      ]
    },
    {
      "cell_type": "code",
      "metadata": {
        "colab": {
          "base_uri": "https://localhost:8080/",
          "height": 143
        },
        "id": "2JhZfdNAhylP",
        "outputId": "036244d4-590b-44bf-dc84-0d0a49676745"
      },
      "source": [
        "clustering_metrics.head(3) # here some modification in the clustering.py were of necessity to run properly"
      ],
      "execution_count": 12,
      "outputs": [
        {
          "output_type": "execute_result",
          "data": {
            "text/html": [
              "<div>\n",
              "<style scoped>\n",
              "    .dataframe tbody tr th:only-of-type {\n",
              "        vertical-align: middle;\n",
              "    }\n",
              "\n",
              "    .dataframe tbody tr th {\n",
              "        vertical-align: top;\n",
              "    }\n",
              "\n",
              "    .dataframe thead th {\n",
              "        text-align: right;\n",
              "    }\n",
              "</style>\n",
              "<table border=\"1\" class=\"dataframe\">\n",
              "  <thead>\n",
              "    <tr style=\"text-align: right;\">\n",
              "      <th></th>\n",
              "      <th>ch</th>\n",
              "      <th>db</th>\n",
              "      <th>sc</th>\n",
              "      <th>N</th>\n",
              "      <th>perc</th>\n",
              "    </tr>\n",
              "  </thead>\n",
              "  <tbody>\n",
              "    <tr>\n",
              "      <th>0.30</th>\n",
              "      <td>9.64016</td>\n",
              "      <td>1.49864</td>\n",
              "      <td>0.0456935</td>\n",
              "      <td>4</td>\n",
              "      <td>GSM478912    4\n",
              "GSM478913    4\n",
              "GSM478931    4\n",
              "G...</td>\n",
              "    </tr>\n",
              "    <tr>\n",
              "      <th>0.31</th>\n",
              "      <td>9.66657</td>\n",
              "      <td>1.56943</td>\n",
              "      <td>0.0715208</td>\n",
              "      <td>4</td>\n",
              "      <td>GSM478912    1\n",
              "GSM478913    1\n",
              "GSM478931    1\n",
              "G...</td>\n",
              "    </tr>\n",
              "    <tr>\n",
              "      <th>0.32</th>\n",
              "      <td>9.39398</td>\n",
              "      <td>1.59702</td>\n",
              "      <td>0.0417743</td>\n",
              "      <td>4</td>\n",
              "      <td>GSM478912    1\n",
              "GSM478913    1\n",
              "GSM478931    1\n",
              "G...</td>\n",
              "    </tr>\n",
              "  </tbody>\n",
              "</table>\n",
              "</div>"
            ],
            "text/plain": [
              "           ch       db  ...  N                                               perc\n",
              "0.30  9.64016  1.49864  ...  4  GSM478912    4\n",
              "GSM478913    4\n",
              "GSM478931    4\n",
              "G...\n",
              "0.31  9.66657  1.56943  ...  4  GSM478912    1\n",
              "GSM478913    1\n",
              "GSM478931    1\n",
              "G...\n",
              "0.32  9.39398  1.59702  ...  4  GSM478912    1\n",
              "GSM478913    1\n",
              "GSM478931    1\n",
              "G...\n",
              "\n",
              "[3 rows x 5 columns]"
            ]
          },
          "metadata": {},
          "execution_count": 12
        }
      ]
    },
    {
      "cell_type": "code",
      "metadata": {
        "colab": {
          "base_uri": "https://localhost:8080/",
          "height": 143
        },
        "id": "gIvbu1of0R52",
        "outputId": "2d499964-7d56-45be-9d28-00854c59bd9a"
      },
      "source": [
        "clustering_metrics.tail(3)"
      ],
      "execution_count": 13,
      "outputs": [
        {
          "output_type": "execute_result",
          "data": {
            "text/html": [
              "<div>\n",
              "<style scoped>\n",
              "    .dataframe tbody tr th:only-of-type {\n",
              "        vertical-align: middle;\n",
              "    }\n",
              "\n",
              "    .dataframe tbody tr th {\n",
              "        vertical-align: top;\n",
              "    }\n",
              "\n",
              "    .dataframe thead th {\n",
              "        text-align: right;\n",
              "    }\n",
              "</style>\n",
              "<table border=\"1\" class=\"dataframe\">\n",
              "  <thead>\n",
              "    <tr style=\"text-align: right;\">\n",
              "      <th></th>\n",
              "      <th>ch</th>\n",
              "      <th>db</th>\n",
              "      <th>sc</th>\n",
              "      <th>N</th>\n",
              "      <th>perc</th>\n",
              "    </tr>\n",
              "  </thead>\n",
              "  <tbody>\n",
              "    <tr>\n",
              "      <th>0.62</th>\n",
              "      <td>6.47137</td>\n",
              "      <td>1.33111</td>\n",
              "      <td>0.109662</td>\n",
              "      <td>10</td>\n",
              "      <td>GSM478912     2\n",
              "GSM478913     2\n",
              "GSM478946     ...</td>\n",
              "    </tr>\n",
              "    <tr>\n",
              "      <th>0.63</th>\n",
              "      <td>6.55356</td>\n",
              "      <td>1.31235</td>\n",
              "      <td>0.117893</td>\n",
              "      <td>10</td>\n",
              "      <td>GSM478912    10\n",
              "GSM478913    10\n",
              "GSM478946    1...</td>\n",
              "    </tr>\n",
              "    <tr>\n",
              "      <th>0.64</th>\n",
              "      <td>9.9731</td>\n",
              "      <td>1.09709</td>\n",
              "      <td>0.245867</td>\n",
              "      <td>12</td>\n",
              "      <td>GSM478912     1\n",
              "GSM478913     1\n",
              "GSM478914     ...</td>\n",
              "    </tr>\n",
              "  </tbody>\n",
              "</table>\n",
              "</div>"
            ],
            "text/plain": [
              "           ch       db  ...   N                                               perc\n",
              "0.62  6.47137  1.33111  ...  10  GSM478912     2\n",
              "GSM478913     2\n",
              "GSM478946     ...\n",
              "0.63  6.55356  1.31235  ...  10  GSM478912    10\n",
              "GSM478913    10\n",
              "GSM478946    1...\n",
              "0.64   9.9731  1.09709  ...  12  GSM478912     1\n",
              "GSM478913     1\n",
              "GSM478914     ...\n",
              "\n",
              "[3 rows x 5 columns]"
            ]
          },
          "metadata": {},
          "execution_count": 13
        }
      ]
    },
    {
      "cell_type": "markdown",
      "metadata": {
        "id": "6vBT6cuwh5y_"
      },
      "source": [
        "this table summarise the clustering metrics :\n",
        "\n",
        "- ch: calinski_harabasz_score\n",
        "- db: davies_bouldin_score\n",
        "- sc: silhouette_score\n",
        "\n",
        "ch db and sc as described in sklearn.metrics\n",
        "\n",
        "- N: number of clusters\n",
        "- perc: samples in each cluster\n"
      ]
    },
    {
      "cell_type": "markdown",
      "metadata": {
        "id": "aKhzUEL9kTBK"
      },
      "source": [
        "# Visualize the partitions"
      ]
    },
    {
      "cell_type": "code",
      "metadata": {
        "colab": {
          "base_uri": "https://localhost:8080/",
          "height": 708
        },
        "id": "M9UTVfL-j8ET",
        "outputId": "db0fbbbd-9314-41fe-85a6-cf8c6de1bafe"
      },
      "source": [
        "clustering_profile_metrics_plot(clustering_metrics) # he a typo correction in the  was of nessity"
      ],
      "execution_count": 14,
      "outputs": [
        {
          "output_type": "execute_result",
          "data": {
            "text/plain": [
              "<matplotlib.axes._subplots.AxesSubplot at 0x7f8bf749be50>"
            ]
          },
          "metadata": {},
          "execution_count": 14
        },
        {
          "output_type": "display_data",
          "data": {
            "image/png": "[encoded data removed]",
            "text/plain": [
              "<Figure size 576x864 with 5 Axes>"
            ]
          },
          "metadata": {
            "needs_background": "light"
          }
        }
      ]
    },
    {
      "cell_type": "markdown",
      "metadata": {
        "id": "OIPRILPRlrOm"
      },
      "source": [
        "Note that the x axes is extended from the 0.30 to 0.64 the clustering range as explained in the previous paragraph \n",
        "\n",
        "For the illustration we will use 0.47 as the optimal threshold "
      ]
    },
    {
      "cell_type": "code",
      "metadata": {
        "id": "xVuPxJGjoJ_z"
      },
      "source": [
        "best_threshold = '0.47'"
      ],
      "execution_count": 15,
      "outputs": []
    },
    {
      "cell_type": "markdown",
      "metadata": {
        "id": "TMpM4vXj86sz"
      },
      "source": [
        "# Detect cluster types"
      ]
    },
    {
      "cell_type": "code",
      "metadata": {
        "id": "A_MUTSBA1Zqy"
      },
      "source": [
        "# defining detect_type as fuction is better than defining it in the example walkthrough\n",
        "from portraits.detect_type import detect_type "
      ],
      "execution_count": 19,
      "outputs": []
    },
    {
      "cell_type": "code",
      "metadata": {
        "id": "VX_FGeSf4P--"
      },
      "source": [
        "final_clusters = detect_type(clustering_metrics, best_threshold, signature_scores_scaled)"
      ],
      "execution_count": 18,
      "outputs": []
    },
    {
      "cell_type": "code",
      "metadata": {
        "colab": {
          "base_uri": "https://localhost:8080/"
        },
        "id": "onR0QdkV8suB",
        "outputId": "58da9aeb-240a-48c1-e1bf-69343a7879a3"
      },
      "source": [
        "final_clusters.head(3)"
      ],
      "execution_count": 20,
      "outputs": [
        {
          "output_type": "execute_result",
          "data": {
            "text/plain": [
              "GSM478912    D\n",
              "GSM478913    D\n",
              "GSM478937    D\n",
              "Name: MFP, dtype: object"
            ]
          },
          "metadata": {},
          "execution_count": 20
        }
      ]
    },
    {
      "cell_type": "markdown",
      "metadata": {
        "id": "iUMI0wCw8xV1"
      },
      "source": [
        "# Exporting "
      ]
    },
    {
      "cell_type": "code",
      "metadata": {
        "id": "eAu38vGW80za"
      },
      "source": [
        "final_clusters.to_csv('final_clusters.tsv', sep='\\t', index=True)"
      ],
      "execution_count": 21,
      "outputs": []
    },
    {
      "cell_type": "code",
      "metadata": {
        "id": "KNQ-pIcu9NXx"
      },
      "source": [
        ""
      ],
      "execution_count": null,
      "outputs": []
    }
  ]
}