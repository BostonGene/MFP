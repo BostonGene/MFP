{
 "cells": [
  {
   "cell_type": "markdown",
   "id": "15c877f6-d17d-4f37-bac0-055a415c3ba0",
   "metadata": {
    "tags": []
   },
   "source": [
    "This notebook provides the functionality to retrieve gene expression data from the Gene Expression Omnibus (GEO), apply data normalization techniques, and generate an output table in the .tsv format."
   ]
  },
  {
   "cell_type": "markdown",
   "id": "cfa44387-8c80-41c7-859e-1e57f37d7671",
   "metadata": {},
   "source": [
    "Example will be shown on Ulloa-Montoya GSE35640, GPL570 sample"
   ]
  },
  {
   "cell_type": "markdown",
   "id": "f8ed2d69-704f-4be9-96cd-edaaf6b2b8db",
   "metadata": {},
   "source": [
    "# Import of python base packages"
   ]
  },
  {
   "cell_type": "code",
   "execution_count": 24,
   "id": "fad0b441-09a1-49af-98e0-35a3936b2dad",
   "metadata": {
    "tags": []
   },
   "outputs": [
    {
     "name": "stdout",
     "output_type": "stream",
     "text": [
      "The autoreload extension is already loaded. To reload it, use:\n",
      "  %reload_ext autoreload\n"
     ]
    }
   ],
   "source": [
    "%load_ext autoreload\n",
    "%matplotlib inline\n",
    "%config IPCompleter.use_jedi = False\n",
    "\n",
    "import pathlib\n",
    "import subprocess\n",
    "import logging\n",
    "import os\n",
    "import pandas as pd\n",
    "import csv"
   ]
  },
  {
   "cell_type": "code",
   "execution_count": 25,
   "id": "e46bab67-0f3c-402f-87a3-2d3db738c900",
   "metadata": {
    "tags": []
   },
   "outputs": [],
   "source": [
    "from portraits.mapping import get_gs_for_probes_from_3col,get_expressions_for_gs\n"
   ]
  },
  {
   "cell_type": "code",
   "execution_count": 26,
   "id": "eaa2346c-7421-4aa3-9b37-c15faf93b756",
   "metadata": {
    "tags": []
   },
   "outputs": [],
   "source": [
    "import warnings\n",
    "warnings.filterwarnings(\"ignore\")"
   ]
  },
  {
   "cell_type": "code",
   "execution_count": 27,
   "id": "8928db8d-fdce-4b11-87ca-57187ab24b90",
   "metadata": {
    "tags": []
   },
   "outputs": [
    {
     "name": "stdout",
     "output_type": "stream",
     "text": [
      "The rpy2.ipython extension is already loaded. To reload it, use:\n",
      "  %reload_ext rpy2.ipython\n"
     ]
    }
   ],
   "source": [
    "%load_ext rpy2.ipython"
   ]
  },
  {
   "cell_type": "markdown",
   "id": "4a89260e-74f2-4395-b5df-9de3a5fb3be7",
   "metadata": {
    "tags": []
   },
   "source": [
    "# Get the example data from GEO"
   ]
  },
  {
   "cell_type": "markdown",
   "id": "51b5d784-1f07-49e6-8cdb-84157af90040",
   "metadata": {},
   "source": [
    "If you want to use another sample please change the GSE and PLATFORM variables to your desired samples GSE and PLATFORM values in GEO correspondingly."
   ]
  },
  {
   "cell_type": "code",
   "execution_count": 28,
   "id": "81c220ac-d0fc-4d03-8699-4e12dec04c3e",
   "metadata": {},
   "outputs": [],
   "source": [
    "GSE = 'GSE35640'\n",
    "PLATFORM = 'GPL570'\n",
    "EXPRESSION_MATRIX = 'Test/expression.tsv'"
   ]
  },
  {
   "cell_type": "markdown",
   "id": "8c803755-fe38-47c8-b438-b4fa37fab871",
   "metadata": {},
   "source": [
    "Initialize and create a temporary directory for the CEL files"
   ]
  },
  {
   "cell_type": "code",
   "execution_count": 29,
   "id": "8681c081-1416-47b2-a6eb-8f7aad18ef73",
   "metadata": {},
   "outputs": [],
   "source": [
    "current_dir = pathlib.Path().parent.absolute()\n",
    "dir_to_process = str(current_dir / 'TMPDIR')"
   ]
  },
  {
   "cell_type": "code",
   "execution_count": 30,
   "id": "e9697d13-840a-4122-a45b-60daee0508ad",
   "metadata": {},
   "outputs": [],
   "source": [
    "if not os.path.exists(dir_to_process):\n",
    "     os.mkdir(dir_to_process)"
   ]
  },
  {
   "cell_type": "code",
   "execution_count": 31,
   "id": "7dc6c27e-ff19-4d8a-84b6-5ba89ff99bb9",
   "metadata": {},
   "outputs": [],
   "source": [
    "with open(os.devnull, \"w\") as f:\n",
    "    subprocess.run([\n",
    "        'wget',\n",
    "        f'ftp://ftp.ncbi.nlm.nih.gov/geo/series/GSE35nnn/{GSE}/suppl/{GSE}_RAW.tar'\n",
    "    ],stdout=f, stderr=subprocess.STDOUT );"
   ]
  },
  {
   "cell_type": "code",
   "execution_count": 32,
   "id": "ba3c61ee-d311-496d-8ce6-203bcba2018e",
   "metadata": {},
   "outputs": [
    {
     "data": {
      "text/plain": [
       "CompletedProcess(args=['rm', 'GSE35640_RAW.tar'], returncode=0)"
      ]
     },
     "execution_count": 32,
     "metadata": {},
     "output_type": "execute_result"
    }
   ],
   "source": [
    "subprocess.run([\n",
    "    'tar',\n",
    "    '-xf',\n",
    "    f'{GSE}_RAW.tar',\n",
    "    '-C', dir_to_process\n",
    "])\n",
    "subprocess.run([\n",
    "    'rm',\n",
    "    f'{GSE}_RAW.tar'\n",
    "])"
   ]
  },
  {
   "cell_type": "code",
   "execution_count": 33,
   "id": "1f619c48-a5b0-4d11-a4ba-5f166519661f",
   "metadata": {},
   "outputs": [
    {
     "data": {
      "text/plain": [
       "['GSM872328_MAGE008_sample_1.CEL.gz',\n",
       " 'GSM872329_MAGE008_sample_2.CEL.gz',\n",
       " 'GSM872330_MAGE008_sample_3.CEL.gz',\n",
       " 'GSM872331_MAGE008_sample_4.CEL.gz',\n",
       " 'GSM872332_MAGE008_sample_5.CEL.gz',\n",
       " 'GSM872333_MAGE008_sample_6.CEL.gz',\n",
       " 'GSM872334_MAGE008_sample_7.CEL.gz',\n",
       " 'GSM872335_MAGE008_sample_8.CEL.gz',\n",
       " 'GSM872336_MAGE008_sample_9.CEL.gz',\n",
       " 'GSM872337_MAGE008_sample_10.CEL.gz',\n",
       " 'GSM872338_MAGE008_sample_11.CEL.gz',\n",
       " 'GSM872339_MAGE008_sample_12.CEL.gz',\n",
       " 'GSM872340_MAGE008_sample_13.CEL.gz',\n",
       " 'GSM872341_MAGE008_sample_14.CEL.gz',\n",
       " 'GSM872342_MAGE008_sample_15.CEL.gz',\n",
       " 'GSM872343_MAGE008_sample_16.CEL.gz',\n",
       " 'GSM872344_MAGE008_sample_17.CEL.gz',\n",
       " 'GSM872345_MAGE008_sample_18.CEL.gz',\n",
       " 'GSM872346_MAGE008_sample_19.CEL.gz',\n",
       " 'GSM872347_MAGE008_sample_20.CEL.gz',\n",
       " 'GSM872348_MAGE008_sample_21.CEL.gz',\n",
       " 'GSM872349_MAGE008_sample_22.CEL.gz',\n",
       " 'GSM872350_MAGE008_sample_23.CEL.gz',\n",
       " 'GSM872351_MAGE008_sample_24.CEL.gz',\n",
       " 'GSM872352_MAGE008_sample_25.CEL.gz',\n",
       " 'GSM872353_MAGE008_sample_26.CEL.gz',\n",
       " 'GSM872354_MAGE008_sample_27.CEL.gz',\n",
       " 'GSM872355_MAGE008_sample_28.CEL.gz',\n",
       " 'GSM872356_MAGE008_sample_29.CEL.gz',\n",
       " 'GSM872357_MAGE008_sample_30.CEL.gz',\n",
       " 'GSM872358_MAGE008_sample_31.CEL.gz',\n",
       " 'GSM872359_MAGE008_sample_32.CEL.gz',\n",
       " 'GSM872360_MAGE008_sample_33.CEL.gz',\n",
       " 'GSM872361_MAGE008_sample_34.CEL.gz',\n",
       " 'GSM872362_MAGE008_sample_35.CEL.gz',\n",
       " 'GSM872363_MAGE008_sample_36.CEL.gz',\n",
       " 'GSM872364_MAGE008_sample_37.CEL.gz',\n",
       " 'GSM872365_MAGE008_sample_38.CEL.gz',\n",
       " 'GSM872366_MAGE008_sample_39.CEL.gz',\n",
       " 'GSM872367_MAGE008_sample_40.CEL.gz',\n",
       " 'GSM872368_MAGE008_sample_41.CEL.gz',\n",
       " 'GSM872369_MAGE008_sample_42.CEL.gz',\n",
       " 'GSM872370_MAGE008_sample_43.CEL.gz',\n",
       " 'GSM872371_MAGE008_sample_44.CEL.gz',\n",
       " 'GSM872372_MAGE008_sample_45.CEL.gz',\n",
       " 'GSM872373_MAGE008_sample_46.CEL.gz',\n",
       " 'GSM872374_MAGE008_sample_47.CEL.gz',\n",
       " 'GSM872375_MAGE008_sample_48.CEL.gz',\n",
       " 'GSM872376_MAGE008_sample_49.CEL.gz',\n",
       " 'GSM872377_MAGE008_sample_50.CEL.gz',\n",
       " 'GSM872378_MAGE008_sample_51.CEL.gz',\n",
       " 'GSM872379_MAGE008_sample_52.CEL.gz',\n",
       " 'GSM872380_MAGE008_sample_53.CEL.gz',\n",
       " 'GSM872381_MAGE008_sample_54.CEL.gz',\n",
       " 'GSM872382_MAGE008_sample_55.CEL.gz',\n",
       " 'GSM872383_MAGE008_sample_56.CEL.gz',\n",
       " 'GSM872384_MAGE008_sample_57.CEL.gz',\n",
       " 'GSM872385_MAGE008_sample_58.CEL.gz',\n",
       " 'GSM872386_MAGE008_sample_59.CEL.gz',\n",
       " 'GSM872387_MAGE008_sample_60.CEL.gz',\n",
       " 'GSM872388_MAGE008_sample_61.CEL.gz',\n",
       " 'GSM872389_MAGE008_sample_62.CEL.gz',\n",
       " 'GSM872390_MAGE008_sample_63.CEL.gz',\n",
       " 'GSM872391_MAGE008_sample_64.CEL.gz',\n",
       " 'GSM872392_MAGE008_sample_65.CEL.gz']"
      ]
     },
     "execution_count": 33,
     "metadata": {},
     "output_type": "execute_result"
    }
   ],
   "source": [
    "os.listdir(dir_to_process)"
   ]
  },
  {
   "cell_type": "markdown",
   "id": "d8c78800-88e0-43c4-8ea9-9178ae00cd46",
   "metadata": {
    "tags": []
   },
   "source": [
    "## Extracting expression values from CEL file"
   ]
  },
  {
   "cell_type": "markdown",
   "id": "c486edb3-a7b9-43a8-950a-6bdda6822f47",
   "metadata": {},
   "source": [
    "For affy arrays without special probes, use RMA\n",
    "For GPL570/GPL96, use gcrma"
   ]
  },
  {
   "cell_type": "code",
   "execution_count": 36,
   "id": "59567601-b574-48f2-92ba-c3b3425dc950",
   "metadata": {},
   "outputs": [],
   "source": [
    "annotated_expression = pd.read_csv('Test/expressions.tsv')"
   ]
  },
  {
   "cell_type": "code",
   "execution_count": null,
   "id": "1efa13ab-8169-40fa-9fce-d404f699d59a",
   "metadata": {
    "ExecuteTime": {
     "end_time": "2018-08-02T13:25:21.735530Z",
     "start_time": "2018-08-02T13:25:16.965609Z"
    },
    "scrolled": true
   },
   "outputs": [],
   "source": [
    "%%R\n",
    "\n",
    "# Load required R packages\n",
    "library(affy)\n",
    "library(annotate)\n",
    "library(gcrma)"
   ]
  },
  {
   "cell_type": "code",
   "execution_count": null,
   "id": "a9f47bd1-1757-44a8-afa4-61590b1b5c7e",
   "metadata": {
    "ExecuteTime": {
     "end_time": "2018-08-02T14:25:38.950721Z",
     "start_time": "2018-08-02T14:19:31.888815Z"
    },
    "scrolled": true
   },
   "outputs": [],
   "source": [
    "%%R -i dir_to_process -o normalized_expression\n",
    "\n",
    "# Bulk read cell files\n",
    "raw_expression <- ReadAffy(celfile.path = dir_to_process)\n",
    "\n",
    "# Normalize expression using RMA\n",
    "rma_normalized <- gcrma(raw_expression)\n",
    "\n",
    "# Retrieve expressions from dataset\n",
    "normalized_expression <- as.data.frame(exprs(rma_normalized))"
   ]
  },
  {
   "cell_type": "code",
   "execution_count": null,
   "id": "d422bec2-59b9-4ce8-b860-677cd2eb4057",
   "metadata": {
    "scrolled": true
   },
   "outputs": [],
   "source": [
    "normalized_expression.head()"
   ]
  },
  {
   "cell_type": "code",
   "execution_count": null,
   "id": "50c6cb3c-ebb9-4208-9795-f217d76ba3ef",
   "metadata": {
    "ExecuteTime": {
     "end_time": "2018-08-02T14:25:38.956494Z",
     "start_time": "2018-08-02T14:25:38.952824Z"
    },
    "tags": []
   },
   "outputs": [],
   "source": [
    "# Trim names to make the table more readable.\n",
    "\n",
    "normalized_expression.columns = normalized_expression.columns.to_series().apply(lambda x: x.split('_')[0]).values\n",
    "normalized_expression.head()"
   ]
  },
  {
   "cell_type": "code",
   "execution_count": null,
   "id": "cf9c95de-3bd6-4f39-acf0-67400dff402c",
   "metadata": {},
   "outputs": [],
   "source": [
    "# Delete unnecessary files\n",
    "\n",
    "subprocess.run(['rm',  '-r','TMPDIR/'])"
   ]
  },
  {
   "cell_type": "markdown",
   "id": "70302308-2e72-44de-82f1-bd0401c17458",
   "metadata": {
    "tags": []
   },
   "source": [
    "## Converting probe ids to HUGO gene symbols"
   ]
  },
  {
   "cell_type": "markdown",
   "id": "23919ffd-b3b0-426e-b64a-8d0d78b190ae",
   "metadata": {
    "tags": []
   },
   "source": [
    "To download the SOFT file manually, follow these steps (we use the Ulloya-Montoya sample as an example):"
   ]
  },
  {
   "cell_type": "markdown",
   "id": "c4287ff5-c398-46d6-af22-0e8a4e9ca0f1",
   "metadata": {},
   "source": [
    "* Go to https://www.ncbi.nlm.nih.gov/geo/\n",
    "* Type the GLP platform number – GLP570 – in the search bar\n",
    "* Go to https://www.ncbi.nlm.nih.gov/geo/query/acc.cgi?acc=GPL570\n",
    "* Find the Annotation SOFT table at the bottom of the page\n",
    "* Click the button to download the SOFT annotation table for your sample (GPL570.annot.gz in our example)\n",
    "* Upload the file to the environment."
   ]
  },
  {
   "cell_type": "markdown",
   "id": "08a80c9c-61a8-4930-954d-ac4bc1216768",
   "metadata": {},
   "source": [
    "To download SOFT annotation table from jupyter notebook, change the PLATFORM value to appropriate GPL platform."
   ]
  },
  {
   "cell_type": "code",
   "execution_count": 37,
   "id": "e69c6890-cde0-4297-be33-3eb10aacceea",
   "metadata": {},
   "outputs": [],
   "source": [
    "with open(os.devnull, \"w\") as f:\n",
    "    subprocess.run([\n",
    "        'wget',\n",
    "        f'ftp://ftp.ncbi.nlm.nih.gov/geo/platforms/GPLnnn/{PLATFORM}/annot/{PLATFORM}.annot.gz'\n",
    "    ], stdout=f, stderr=subprocess.STDOUT)"
   ]
  },
  {
   "cell_type": "markdown",
   "id": "2c7dad83-c3ca-4c64-8ef9-2fd312ff8127",
   "metadata": {},
   "source": [
    "Once you’ve downloaded the SOFT file, extract the data from it. Unzip the SOFT file to get GPL570.annot.gz"
   ]
  },
  {
   "cell_type": "code",
   "execution_count": 38,
   "id": "c3e66f8e-18fb-49a0-9f0e-b834f07faaaa",
   "metadata": {},
   "outputs": [
    {
     "data": {
      "text/plain": [
       "CompletedProcess(args=['gunzip', 'GPL570.annot.gz'], returncode=0)"
      ]
     },
     "execution_count": 38,
     "metadata": {},
     "output_type": "execute_result"
    }
   ],
   "source": [
    "subprocess.run(['gunzip', f'{PLATFORM}.annot.gz'])"
   ]
  },
  {
   "cell_type": "markdown",
   "id": "12c1c8ec-d7e7-46f3-9409-7c1dc94ffa6e",
   "metadata": {},
   "source": [
    "Remove the header from the SOFT file to avoid any problems in further processes"
   ]
  },
  {
   "cell_type": "code",
   "execution_count": 39,
   "id": "64e7aa93-ae67-4d2e-aa2b-7b0e43ddafc1",
   "metadata": {},
   "outputs": [
    {
     "data": {
      "text/plain": [
       "CompletedProcess(args=\"sed '1,/^ID/d' GPL570.annot > GPL570.beheaded.annot\", returncode=0)"
      ]
     },
     "execution_count": 39,
     "metadata": {},
     "output_type": "execute_result"
    }
   ],
   "source": [
    "subprocess.run(\"sed '1,/^ID/d' GPL570.annot > GPL570.beheaded.annot\", shell = True)"
   ]
  },
  {
   "cell_type": "markdown",
   "id": "f5b62391-8b55-4bcc-9e43-b70c631b210e",
   "metadata": {},
   "source": [
    "Turn the SOFT file into a 3-column file.<br>\n",
    "\n",
    "1st column: probe id<br>\n",
    "2nd column: gene symbol column (as is with '///')<br>\n",
    "3rd column: entrez id (not needed for the study)"
   ]
  },
  {
   "cell_type": "markdown",
   "id": "a62b7d78-13a2-4c9a-96da-235a78a8a17e",
   "metadata": {},
   "source": [
    "Subsetting SOFT file to have 3 columns "
   ]
  },
  {
   "cell_type": "code",
   "execution_count": 40,
   "id": "2525161e-22cc-416f-9eb8-86ec40b839d4",
   "metadata": {},
   "outputs": [],
   "source": [
    "gene_SOFT_annotations = pd.read_csv(f'{PLATFORM}.beheaded.annot', sep = '\\t', header = None)\n",
    "gene_SOFT_annotations = gene_SOFT_annotations.iloc[:, [0, 2, 3]]\n",
    "\n",
    "# Rename columns\n",
    "gene_SOFT_annotations = gene_SOFT_annotations.rename(columns = {2: 1, 3 : 2})\n",
    "gene_SOFT_annotations.to_csv(f'{PLATFORM}.3col', sep = '\\t',  index=False, quoting=csv.QUOTE_NONNUMERIC)"
   ]
  },
  {
   "cell_type": "code",
   "execution_count": 41,
   "id": "05c4e4ee-5687-403d-a0ea-d4c0a715f15a",
   "metadata": {},
   "outputs": [
    {
     "data": {
      "text/html": [
       "<div>\n",
       "<style scoped>\n",
       "    .dataframe tbody tr th:only-of-type {\n",
       "        vertical-align: middle;\n",
       "    }\n",
       "\n",
       "    .dataframe tbody tr th {\n",
       "        vertical-align: top;\n",
       "    }\n",
       "\n",
       "    .dataframe thead th {\n",
       "        text-align: right;\n",
       "    }\n",
       "</style>\n",
       "<table border=\"1\" class=\"dataframe\">\n",
       "  <thead>\n",
       "    <tr style=\"text-align: right;\">\n",
       "      <th></th>\n",
       "      <th>0</th>\n",
       "      <th>1</th>\n",
       "      <th>2</th>\n",
       "    </tr>\n",
       "  </thead>\n",
       "  <tbody>\n",
       "    <tr>\n",
       "      <th>0</th>\n",
       "      <td>1007_s_at</td>\n",
       "      <td>MIR4640///DDR1</td>\n",
       "      <td>100616237///780</td>\n",
       "    </tr>\n",
       "    <tr>\n",
       "      <th>1</th>\n",
       "      <td>1053_at</td>\n",
       "      <td>RFC2</td>\n",
       "      <td>5982</td>\n",
       "    </tr>\n",
       "    <tr>\n",
       "      <th>2</th>\n",
       "      <td>117_at</td>\n",
       "      <td>HSPA6</td>\n",
       "      <td>3310</td>\n",
       "    </tr>\n",
       "    <tr>\n",
       "      <th>3</th>\n",
       "      <td>121_at</td>\n",
       "      <td>PAX8</td>\n",
       "      <td>7849</td>\n",
       "    </tr>\n",
       "    <tr>\n",
       "      <th>4</th>\n",
       "      <td>1255_g_at</td>\n",
       "      <td>GUCA1A</td>\n",
       "      <td>2978</td>\n",
       "    </tr>\n",
       "  </tbody>\n",
       "</table>\n",
       "</div>"
      ],
      "text/plain": [
       "           0               1                2\n",
       "0  1007_s_at  MIR4640///DDR1  100616237///780\n",
       "1    1053_at            RFC2             5982\n",
       "2     117_at           HSPA6             3310\n",
       "3     121_at            PAX8             7849\n",
       "4  1255_g_at          GUCA1A             2978"
      ]
     },
     "execution_count": 41,
     "metadata": {},
     "output_type": "execute_result"
    }
   ],
   "source": [
    "gene_SOFT_annotations.head()"
   ]
  },
  {
   "cell_type": "markdown",
   "id": "01313fa8-9287-4ae5-b718-0c4178528b9b",
   "metadata": {},
   "source": [
    "Delete all unnecessary files"
   ]
  },
  {
   "cell_type": "code",
   "execution_count": 42,
   "id": "9f85fdc9-ef2d-4301-a51f-297df2ce762b",
   "metadata": {},
   "outputs": [
    {
     "data": {
      "text/plain": [
       "CompletedProcess(args=['rm', 'GPL570.beheaded.annot'], returncode=0)"
      ]
     },
     "execution_count": 42,
     "metadata": {},
     "output_type": "execute_result"
    }
   ],
   "source": [
    "subprocess.run(['rm', f'{PLATFORM}.annot'])\n",
    "subprocess.run(['rm', f'{PLATFORM}.beheaded.annot'])"
   ]
  },
  {
   "cell_type": "code",
   "execution_count": null,
   "id": "6a65c011-7a90-465e-89ac-a5439289c713",
   "metadata": {
    "ExecuteTime": {
     "end_time": "2018-08-02T14:25:50.137216Z",
     "start_time": "2018-08-02T14:25:49.716242Z"
    }
   },
   "outputs": [],
   "source": [
    "probes_gs_dict = get_gs_for_probes_from_3col(f'{PLATFORM}.3col', normalized_expression.index.tolist())"
   ]
  },
  {
   "cell_type": "code",
   "execution_count": null,
   "id": "bf12dade-60f2-4132-a4b9-c624a8e01036",
   "metadata": {},
   "outputs": [],
   "source": [
    "pd.Series(probes_gs_dict).head(10)"
   ]
  },
  {
   "cell_type": "code",
   "execution_count": null,
   "id": "4f01fdfd-e8ff-4efb-8c20-102e8385e7f0",
   "metadata": {
    "ExecuteTime": {
     "end_time": "2018-08-02T14:26:46.823094Z",
     "start_time": "2018-08-02T14:25:52.167425Z"
    },
    "tags": []
   },
   "outputs": [],
   "source": [
    "series = pd.Series(probes_gs_dict)\n",
    "annotated_expression = get_expressions_for_gs(series, normalized_expression, 'max').T.sort_index()\n",
    "\n",
    "annotated_expression.to_csv(EXPRESSION_MATRIX, sep='\\t', index=True)"
   ]
  }
 ],
 "metadata": {
  "kernelspec": {
   "display_name": "QA3.10-common",
   "language": "python",
   "name": "qa3.10-common"
  },
  "language_info": {
   "codemirror_mode": {
    "name": "ipython",
    "version": 3
   },
   "file_extension": ".py",
   "mimetype": "text/x-python",
   "name": "python",
   "nbconvert_exporter": "python",
   "pygments_lexer": "ipython3",
   "version": "3.10.6"
  }
 },
 "nbformat": 4,
 "nbformat_minor": 5
}
